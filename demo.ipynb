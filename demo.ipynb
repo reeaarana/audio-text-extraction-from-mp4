{
 "cells": [
  {
   "cell_type": "code",
   "execution_count": 4,
   "id": "a21a9453-2362-419b-8975-51198af1b418",
   "metadata": {},
   "outputs": [
    {
     "name": "stdout",
     "output_type": "stream",
     "text": [
      "MoviePy - Writing audio in vid.mp3\n"
     ]
    },
    {
     "name": "stderr",
     "output_type": "stream",
     "text": [
      "                                                                                \r"
     ]
    },
    {
     "name": "stdout",
     "output_type": "stream",
     "text": [
      "MoviePy - Done.\n",
      "MoviePy - Writing audio in vid.wav\n"
     ]
    },
    {
     "name": "stderr",
     "output_type": "stream",
     "text": [
      "                                                                                \r"
     ]
    },
    {
     "name": "stdout",
     "output_type": "stream",
     "text": [
      "MoviePy - Done.\n"
     ]
    }
   ],
   "source": [
    "import os\n",
    "import moviepy.editor as mp\n",
    "import speech_recognition as sr\n",
    "\n",
    "def extract_audio(video_file, output_audio_file):\n",
    "    video = mp.VideoFileClip(video_file)\n",
    "    video.audio.write_audiofile(output_audio_file)\n",
    "\n",
    "def convert_mp3_to_wav(mp3_file, output_wav_file):\n",
    "    audio = mp.AudioFileClip(mp3_file)\n",
    "    audio.write_audiofile(output_wav_file, codec='pcm_s16le')\n",
    "\n",
    "def transcribe_audio(wav_file):\n",
    "    recognizer = sr.Recognizer()\n",
    "    with sr.AudioFile(wav_file) as source:\n",
    "        audio_data = recognizer.record(source)\n",
    "        try:\n",
    "            text = recognizer.recognize_sphinx(audio_data)\n",
    "            return text\n",
    "        except sr.UnknownValueError:\n",
    "            print(\"Sphinx could not understand audio\")\n",
    "            return \"\"\n",
    "        except sr.RequestError as e:\n",
    "            print(\"Sphinx error; {0}\".format(e))\n",
    "            return \"\"\n",
    "\n",
    "def main(video_file):\n",
    "    # Extract audio from video\n",
    "    audio_file = os.path.splitext(video_file)[0] + \".mp3\"\n",
    "    extract_audio(video_file, audio_file)\n",
    "\n",
    "    # Convert MP3 to WAV\n",
    "    wav_file = os.path.splitext(video_file)[0] + \".wav\"\n",
    "    convert_mp3_to_wav(audio_file, wav_file)\n",
    "\n",
    "    # Transcribe audio\n",
    "    transcription = transcribe_audio(wav_file)\n",
    "\n",
    "    # Write transcription to file\n",
    "    output_text_file = os.path.splitext(video_file)[0] + \"_transcription.txt\"\n",
    "    with open(output_text_file, \"w\") as text_file:\n",
    "        text_file.write(transcription)\n",
    "\n",
    "if __name__ == \"__main__\":\n",
    "    video_file = \"vid.mp4\"  # Provide the video file path directly\n",
    "    main(video_file)\n"
   ]
  },
  {
   "cell_type": "code",
   "execution_count": null,
   "id": "8c8a7a7a-a4cd-43bf-91a0-9b39ee3470bd",
   "metadata": {},
   "outputs": [],
   "source": []
  },
  {
   "cell_type": "code",
   "execution_count": null,
   "id": "ceda3e75-cd36-4a8c-ab4e-b2e853f18943",
   "metadata": {},
   "outputs": [],
   "source": []
  }
 ],
 "metadata": {
  "kernelspec": {
   "display_name": "Python 3 (ipykernel)",
   "language": "python",
   "name": "python3"
  },
  "language_info": {
   "codemirror_mode": {
    "name": "ipython",
    "version": 3
   },
   "file_extension": ".py",
   "mimetype": "text/x-python",
   "name": "python",
   "nbconvert_exporter": "python",
   "pygments_lexer": "ipython3",
   "version": "3.12.3"
  }
 },
 "nbformat": 4,
 "nbformat_minor": 5
}
